{
 "cells": [
  {
   "cell_type": "code",
   "execution_count": 1,
   "id": "wound-singapore",
   "metadata": {},
   "outputs": [],
   "source": [
    "import numpy as np\n",
    "import matplotlib.pyplot as plt\n",
    "from matplotlib.colors import ListedColormap\n",
    "from sklearn.datasets import make_classification\n",
    "from sklearn.model_selection import train_test_split\n",
    "%matplotlib inline"
   ]
  },
  {
   "cell_type": "markdown",
   "id": "peripheral-london",
   "metadata": {},
   "source": [
    "Для любой модели из курса(кроме KNN) и данных на которых она строилась: применить метод главных компонент к данным и сравнить работу модели на исходных данных с работой на данных, где в качестве признаков используются две главные компоненты."
   ]
  },
  {
   "cell_type": "code",
   "execution_count": 2,
   "id": "failing-desire",
   "metadata": {},
   "outputs": [],
   "source": [
    "class LogisticRegression:\n",
    "    def __init__(self, n_iterations=1000, eta=0.05):\n",
    "        self.n_iterations = n_iterations\n",
    "        self.eta = eta\n",
    "\n",
    "    def _log_grad(self, X, target):\n",
    "        m = X.shape[0]\n",
    "        y = (2 * target - 1)\n",
    "        score = np.dot(X, self.w.T).flatten() + self.w0\n",
    "        Z = -y / (m * (1 + np.exp(y * score)))\n",
    "        grad = Z[np.newaxis, :].dot(X)\n",
    "        return grad / m, np.sum(Z) / m\n",
    "\n",
    "    def _optimize(self, X, target):\n",
    "        for i in range(self.n_iterations):\n",
    "            grad_w, grad_w0 = self._log_grad(X, target)\n",
    "            self.w -= self.eta * grad_w\n",
    "            self.w0 -= self.eta * grad_w0\n",
    "\n",
    "    def fit(self, X, target):\n",
    "        self.w = np.zeros((1, X.shape[1]))\n",
    "        self.w0 = 0\n",
    "        self._optimize(X, target)\n",
    "\n",
    "    def predict_proba(self, X):\n",
    "        score = X.dot(self.w.T).flatten() + self.w0\n",
    "        return 1 / (1 + np.exp(-score))\n",
    "\n",
    "    def predict(self, X, thr=0.5, exact_proba=False):\n",
    "        \"\"\"\n",
    "        При exact_proba=True возвращает значения вероятности целевой \n",
    "        переменной без отнесения к классу\n",
    "        \"\"\"\n",
    "        proba = self.predict_proba(X)\n",
    "        y_predicted = np.zeros(proba.shape, dtype=np.int8)\n",
    "        y_predicted[proba > thr] = 1\n",
    "        y_predicted[proba <= thr] = 0\n",
    "        return y_predicted if not exact_proba else proba\n",
    "\n",
    "    @staticmethod\n",
    "    def _confusion(y_predicted, y_actual):\n",
    "        \"\"\"\n",
    "        :param y_predicted: predicted target value\n",
    "        :param y_actual: real target value\n",
    "        :return: tuple of following true positive, false positive,\n",
    "                 true negative and false negative\n",
    "        \"\"\"\n",
    "        TP = np.sum(np.logical_and(y_predicted == 1, y_actual == 1))\n",
    "        FP = np.sum(np.logical_and(y_predicted == 1, y_actual == 0))\n",
    "        TN = np.sum(np.logical_and(y_predicted == 0, y_actual == 0))\n",
    "        FN = np.sum(np.logical_and(y_predicted == 0, y_actual == 1))\n",
    "        return TP, FP, TN, FN\n",
    "\n",
    "    def metrics(self, y_predicted, y_actual, metric='tpr_fpr'):\n",
    "        \"\"\"\n",
    "        Возвращает значение требуемой метрики (f1, tpr_fpr, pr_rec)\n",
    "        \"\"\"\n",
    "        TP, FP, TN, FN = self._confusion(y_predicted, y_actual)\n",
    "        if TP or FP:\n",
    "            precision = TP / (TP + FP)\n",
    "        else:\n",
    "            precision = 0\n",
    "        if TP or FN:\n",
    "            recall = TP / (TP + FN)\n",
    "        else:\n",
    "            recall = 0\n",
    "        if precision or recall:\n",
    "            f1 = 2 * precision * recall / (precision + recall)\n",
    "        else:\n",
    "            f1 = 0\n",
    "        TPR = recall\n",
    "        FPR = FP / (FP + TN)\n",
    "        if metric == 'tpr_fpr':\n",
    "            return TPR, FPR\n",
    "        elif metric == 'f1':\n",
    "            return f1\n",
    "        elif metric == 'pr_rec':\n",
    "            return precision, recall\n",
    "        else:\n",
    "            print('wrong metric id used')\n",
    "            return None"
   ]
  },
  {
   "cell_type": "markdown",
   "id": "living-praise",
   "metadata": {},
   "source": [
    "Сгенерируем датасет из 100 наблюдений и 4х признаков"
   ]
  },
  {
   "cell_type": "code",
   "execution_count": 3,
   "id": "responsible-priority",
   "metadata": {},
   "outputs": [],
   "source": [
    "X, y = make_classification(n_samples=100,\n",
    "                                    n_features=4,\n",
    "                                    n_informative=2,\n",
    "                                    n_redundant=0,\n",
    "                                    n_classes=2,\n",
    "                                    random_state=56)\n",
    "X_train, X_test, y_train, y_test = train_test_split(X, y, test_size=0.33, \n",
    "                                                    random_state=2, shuffle=True)"
   ]
  },
  {
   "cell_type": "code",
   "execution_count": 4,
   "id": "measured-capacity",
   "metadata": {},
   "outputs": [],
   "source": [
    "log_reg_model = LogisticRegression()\n",
    "log_reg_model.fit(X_train, y_train)"
   ]
  },
  {
   "cell_type": "code",
   "execution_count": 5,
   "id": "federal-atlantic",
   "metadata": {},
   "outputs": [
    {
     "name": "stdout",
     "output_type": "stream",
     "text": [
      "f1-метрика на трейне: 0.8656716417910447\n"
     ]
    }
   ],
   "source": [
    "y_pred = log_reg_model.predict(X_train)\n",
    "print(f'f1-метрика на трейне: {log_reg_model.metrics(y_pred, y_train, metric=\"f1\")}')"
   ]
  },
  {
   "cell_type": "code",
   "execution_count": 6,
   "id": "competent-convert",
   "metadata": {},
   "outputs": [
    {
     "name": "stdout",
     "output_type": "stream",
     "text": [
      "f1-метрика на тесте: 0.8387096774193549\n"
     ]
    }
   ],
   "source": [
    "y_pred = log_reg_model.predict(X_test)\n",
    "print(f'f1-метрика на тесте: {log_reg_model.metrics(y_pred, y_test, metric=\"f1\")}')"
   ]
  },
  {
   "cell_type": "markdown",
   "id": "humanitarian-crawford",
   "metadata": {},
   "source": [
    "Применим метод PCA"
   ]
  },
  {
   "cell_type": "code",
   "execution_count": 7,
   "id": "other-condition",
   "metadata": {},
   "outputs": [],
   "source": [
    "X_train_norm = X_train.astype(float)\n",
    "# Сохраним значение среднего и стд для последующих преобразований\n",
    "mean = np.apply_along_axis(np.mean, 0, X_train_norm)\n",
    "std = np.apply_along_axis(np.std, 0, X_train_norm)\n",
    "\n",
    "X_train_norm -= np.mean(X_train_norm, axis=0)\n",
    "X_train_norm /= np.std(X_train_norm, axis=0)"
   ]
  },
  {
   "cell_type": "code",
   "execution_count": 8,
   "id": "harmful-miniature",
   "metadata": {},
   "outputs": [
    {
     "name": "stdout",
     "output_type": "stream",
     "text": [
      "Собственные значения: собственный вектор в порядке убывания:\n",
      "77.96414534687045: [-0.40707333 -0.34641881 -0.3106734   0.78598178]\n",
      "74.62967016338443: [-0.54762306 -0.30045524  0.77306519 -0.11048005]\n",
      "67.07003245718333: [-0.55971859  0.82448092 -0.06947526  0.04603806]\n",
      "48.336152032561785: [-0.47022908 -0.33158991 -0.54865786 -0.60655363]\n"
     ]
    }
   ],
   "source": [
    "# Найдем собственные векторы и собственные значения\n",
    " \n",
    "covariance_matrix = X_train_norm.T.dot(X_train_norm)\n",
    "\n",
    "eig_values, eig_vectors = np.linalg.eig(covariance_matrix)\n",
    "\n",
    "# сформируем список кортежей (собственное значение, собственный вектор)\n",
    "eig_pairs = [(np.abs(eig_values[i]), eig_vectors[:, i]) for i in range(len(eig_values))]\n",
    "\n",
    "# и отсортируем список по убыванию собственных значений\n",
    "eig_pairs.sort(key=lambda x: x[0], reverse=True)\n",
    "\n",
    "print('Собственные значения: собственный вектор в порядке убывания:')\n",
    "for i in eig_pairs:\n",
    "    print(f'{i[0]}: {i[1]}')"
   ]
  },
  {
   "cell_type": "code",
   "execution_count": 9,
   "id": "occupational-petroleum",
   "metadata": {},
   "outputs": [
    {
     "name": "stdout",
     "output_type": "stream",
     "text": [
      "Доля дисперсии, описываемая каждой из компонент \n",
      "[29.09109901002629, 27.846891852009115, 25.02613151387438, 18.03587762409022]\n",
      "Кумулятивная доля дисперсии по компонентам \n",
      "[ 29.09109901  56.93799086  81.96412238 100.        ]\n"
     ]
    }
   ],
   "source": [
    "eig_sum = sum(eig_values)\n",
    "var_exp = [(i / eig_sum) * 100 for i in sorted(eig_values, reverse=True)]\n",
    "cum_var_exp = np.cumsum(var_exp)\n",
    "print(f'Доля дисперсии, описываемая каждой из компонент \\n{var_exp}')\n",
    "\n",
    "# а теперя оценим кумулятивную (то есть накапливаемую) дисперсию при учитывании каждой из компонент\n",
    "print(f'Кумулятивная доля дисперсии по компонентам \\n{cum_var_exp}')"
   ]
  },
  {
   "cell_type": "markdown",
   "id": "substantial-prediction",
   "metadata": {},
   "source": [
    "Оценим вклад в общую дисперсию каждой из компонент"
   ]
  },
  {
   "cell_type": "code",
   "execution_count": 10,
   "id": "super-union",
   "metadata": {},
   "outputs": [
    {
     "data": {
      "image/png": "[encoded data removed]",
      "text/plain": [
       "<Figure size 432x288 with 1 Axes>"
      ]
     },
     "metadata": {
      "needs_background": "light"
     },
     "output_type": "display_data"
    }
   ],
   "source": [
    "plt.bar(range(len(var_exp)), var_exp)\n",
    "plt.xticks([], []);"
   ]
  },
  {
   "cell_type": "markdown",
   "id": "biblical-modification",
   "metadata": {},
   "source": [
    "В этом случае снижение размерности с 4х до 2х приведет к значительным потерям информации. Посмотрим, как это отразится на поведениии модели"
   ]
  },
  {
   "cell_type": "code",
   "execution_count": 11,
   "id": "coordinate-opinion",
   "metadata": {},
   "outputs": [
    {
     "data": {
      "text/plain": [
       "43.062009137964594"
      ]
     },
     "execution_count": 11,
     "metadata": {},
     "output_type": "execute_result"
    }
   ],
   "source": [
    "# Посчитаем, сколько дисперсии мы потеряем \n",
    "sum(var_exp[-2:])"
   ]
  },
  {
   "cell_type": "code",
   "execution_count": 12,
   "id": "adequate-blond",
   "metadata": {},
   "outputs": [
    {
     "name": "stdout",
     "output_type": "stream",
     "text": [
      "Матрица весов W:\n",
      " [[-0.40707333 -0.54762306]\n",
      " [-0.34641881 -0.30045524]\n",
      " [-0.3106734   0.77306519]\n",
      " [ 0.78598178 -0.11048005]]\n"
     ]
    }
   ],
   "source": [
    "# Сформируем вектор весов из собственных векторов, соответствующих первым двум главным компонентам\n",
    "W = np.hstack((eig_pairs[0][1].reshape(4,1), eig_pairs[1][1].reshape(4,1)))\n",
    "print(f'Матрица весов W:\\n', W)"
   ]
  },
  {
   "cell_type": "markdown",
   "id": "stretch-criterion",
   "metadata": {},
   "source": [
    "Получим новую матрицу признаков для тренировочной и тестовой выборок"
   ]
  },
  {
   "cell_type": "code",
   "execution_count": 13,
   "id": "accepting-supervision",
   "metadata": {},
   "outputs": [],
   "source": [
    "X_train_pca = X_train_norm.dot(W)"
   ]
  },
  {
   "cell_type": "code",
   "execution_count": 14,
   "id": "solid-iraqi",
   "metadata": {},
   "outputs": [],
   "source": [
    "X_test_norm = (X_test - mean[np.newaxis, :]) / std[np.newaxis, :]\n",
    "X_test_pca = X_test_norm.dot(W)"
   ]
  },
  {
   "cell_type": "markdown",
   "id": "alive-heath",
   "metadata": {},
   "source": [
    "Обучим модель на вновь сформированных данных сниженной размерности"
   ]
  },
  {
   "cell_type": "code",
   "execution_count": 15,
   "id": "million-bryan",
   "metadata": {},
   "outputs": [],
   "source": [
    "log_reg_model.fit(X_train_pca, y_train)"
   ]
  },
  {
   "cell_type": "code",
   "execution_count": 16,
   "id": "accurate-persian",
   "metadata": {},
   "outputs": [
    {
     "name": "stdout",
     "output_type": "stream",
     "text": [
      "f1-метрика на трейне: 0.704225352112676\n"
     ]
    }
   ],
   "source": [
    "y_pred = log_reg_model.predict(X_train_pca)\n",
    "print(f'f1-метрика на трейне: {log_reg_model.metrics(y_pred, y_train, metric=\"f1\")}')"
   ]
  },
  {
   "cell_type": "code",
   "execution_count": 17,
   "id": "sound-frontier",
   "metadata": {},
   "outputs": [
    {
     "name": "stdout",
     "output_type": "stream",
     "text": [
      "f1-метрика на тесте: 0.6666666666666666\n"
     ]
    }
   ],
   "source": [
    "y_pred = log_reg_model.predict(X_test_pca)\n",
    "print(f'f1-метрика на тесте: {log_reg_model.metrics(y_pred, y_test, metric=\"f1\")}')"
   ]
  },
  {
   "cell_type": "markdown",
   "id": "concrete-fence",
   "metadata": {},
   "source": [
    "Видим, что точность модели серьезно снизилась"
   ]
  },
  {
   "cell_type": "code",
   "execution_count": 18,
   "id": "bulgarian-brazil",
   "metadata": {},
   "outputs": [
    {
     "data": {
      "image/png": "[encoded data removed]",
      "text/plain": [
       "<Figure size 432x288 with 1 Axes>"
      ]
     },
     "metadata": {
      "needs_background": "light"
     },
     "output_type": "display_data"
    }
   ],
   "source": [
    "plt.scatter(X_train_pca[:, 0], X_train_pca[:, 1], c=y_train, cmap=ListedColormap(['red', 'blue']));"
   ]
  },
  {
   "cell_type": "code",
   "execution_count": 19,
   "id": "neither-doctrine",
   "metadata": {},
   "outputs": [
    {
     "data": {
      "image/png": "[encoded data removed]",
      "text/plain": [
       "<Figure size 432x288 with 1 Axes>"
      ]
     },
     "metadata": {
      "needs_background": "light"
     },
     "output_type": "display_data"
    }
   ],
   "source": [
    "plt.scatter(X_test_pca[:, 0], X_test_pca[:, 1], c=y_test, cmap=ListedColormap(['red', 'blue']));"
   ]
  }
 ],
 "metadata": {
  "kernelspec": {
   "display_name": "Python 3",
   "language": "python",
   "name": "python3"
  },
  "language_info": {
   "codemirror_mode": {
    "name": "ipython",
    "version": 3
   },
   "file_extension": ".py",
   "mimetype": "text/x-python",
   "name": "python",
   "nbconvert_exporter": "python",
   "pygments_lexer": "ipython3",
   "version": "3.8.8"
  },
  "varInspector": {
   "cols": {
    "lenName": 16,
    "lenType": 16,
    "lenVar": 40
   },
   "kernels_config": {
    "python": {
     "delete_cmd_postfix": "",
     "delete_cmd_prefix": "del ",
     "library": "var_list.py",
     "varRefreshCmd": "print(var_dic_list())"
    },
    "r": {
     "delete_cmd_postfix": ") ",
     "delete_cmd_prefix": "rm(",
     "library": "var_list.r",
     "varRefreshCmd": "cat(var_dic_list()) "
    }
   },
   "types_to_exclude": [
    "module",
    "function",
    "builtin_function_or_method",
    "instance",
    "_Feature"
   ],
   "window_display": false
  }
 },
 "nbformat": 4,
 "nbformat_minor": 5
}
