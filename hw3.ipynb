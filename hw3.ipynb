{
 "cells": [
  {
   "cell_type": "code",
   "execution_count": 1,
   "id": "governing-dance",
   "metadata": {},
   "outputs": [],
   "source": [
    "import numpy as np\n",
    "import matplotlib.pyplot as plt\n",
    "from sklearn import datasets\n",
    "from sklearn.model_selection import train_test_split\n",
    "%matplotlib inline"
   ]
  },
  {
   "cell_type": "markdown",
   "id": "coastal-confusion",
   "metadata": {},
   "source": [
    "Определите AUC_ROC и AUC_PR для модели логистической регрессии на тестовой выборке. Используйте реализацию модели в виде класса и функцию confusion, чтобы рассчитать TPR, FPR, precision, recal для различных порогов вероятности."
   ]
  },
  {
   "cell_type": "code",
   "execution_count": 2,
   "id": "productive-lecture",
   "metadata": {},
   "outputs": [],
   "source": [
    "class LogisticRegression:\n",
    "    def __init__(self, n_iterations=1000, eta=0.05):\n",
    "        self.n_iterations = n_iterations\n",
    "        self.eta = eta\n",
    "\n",
    "    def _log_grad(self, X, target):\n",
    "        m = X.shape[0]\n",
    "        y = (2 * target - 1)\n",
    "        score = np.dot(X, self.w.T).flatten() + self.w0\n",
    "        Z = -y / (m * (1 + np.exp(y * score)))\n",
    "        grad = Z[np.newaxis, :].dot(X)\n",
    "        return grad / m, np.sum(Z) / m\n",
    "\n",
    "    def _optimize(self, X, target):\n",
    "        for i in range(self.n_iterations):\n",
    "            grad_w, grad_w0 = self._log_grad(X, target)\n",
    "            self.w -= self.eta * grad_w\n",
    "            self.w0 -= self.eta * grad_w0\n",
    "\n",
    "    def fit(self, X, target):\n",
    "        self.w = np.zeros((1, X.shape[1]))\n",
    "        self.w0 = 0\n",
    "        self._optimize(X, target)\n",
    "\n",
    "    def predict_proba(self, X):\n",
    "        score = X.dot(self.w.T).flatten() + self.w0\n",
    "        return 1 / (1 + np.exp(-score))\n",
    "\n",
    "    def predict(self, X, thr=0.5, exact_proba=False):\n",
    "        \"\"\"\n",
    "        При exact_proba=True возвращает значения вероятности целевой \n",
    "        переменной без отнесения к классу\n",
    "        \"\"\"\n",
    "        proba = self.predict_proba(X)\n",
    "        y_predicted = np.zeros(proba.shape, dtype=np.int8)\n",
    "        y_predicted[proba > thr] = 1\n",
    "        y_predicted[proba <= thr] = 0\n",
    "        return y_predicted if not exact_proba else proba\n",
    "\n",
    "    @staticmethod\n",
    "    def _confusion(y_predicted, y_actual):\n",
    "        \"\"\"\n",
    "        :param y_predicted: predicted target value\n",
    "        :param y_actual: real target value\n",
    "        :return: tuple of following true positive, false positive,\n",
    "                 true negative and false negative\n",
    "        \"\"\"\n",
    "        TP = np.sum(np.logical_and(y_predicted == 1, y_actual == 1))\n",
    "        FP = np.sum(np.logical_and(y_predicted == 1, y_actual == 0))\n",
    "        TN = np.sum(np.logical_and(y_predicted == 0, y_actual == 0))\n",
    "        FN = np.sum(np.logical_and(y_predicted == 0, y_actual == 1))\n",
    "        return TP, FP, TN, FN\n",
    "\n",
    "    def metrics(self, y_predicted, y_actual, metric='tpr_fpr'):\n",
    "        \"\"\"\n",
    "        Возвращает значение требуемой метрики (f1, tpr_fpr, pr_rec)\n",
    "        \"\"\"\n",
    "        TP, FP, TN, FN = self._confusion(y_predicted, y_actual)\n",
    "        if TP or FP:\n",
    "            precision = TP / (TP + FP)\n",
    "        else:\n",
    "            precision = 0\n",
    "        if TP or FN:\n",
    "            recall = TP / (TP + FN)\n",
    "        else:\n",
    "            recall = 0\n",
    "        if precision or recall:\n",
    "            f1 = 2 * precision * recall / (precision + recall)\n",
    "        else:\n",
    "            f1 = 0\n",
    "        TPR = recall\n",
    "        FPR = FP / (FP + TN)\n",
    "        if metric == 'tpr_fpr':\n",
    "            return TPR, FPR\n",
    "        elif metric == 'f1':\n",
    "            return f1\n",
    "        elif metric == 'pr_rec':\n",
    "            return precision, recall\n",
    "        else:\n",
    "            print('wrong metric id used')\n",
    "            return None\n",
    "\n",
    "    def roc_auc(self, X, y, metric='tpr_fpr'):\n",
    "        \"\"\"\n",
    "        Возращает два ndarray со значениями TPR/recall и FPR/precision \n",
    "        по каждому значению порога от 0 до 1 с шагом 0.1 и площадь под кривой.\n",
    "        Метрика определяется значением metric (tpr_fpr, pr_rec)\n",
    "        \"\"\"\n",
    "        tpr_recall_list = []\n",
    "        fpr_precision_list = []\n",
    "        for _i in np.arange(0, 1.1, 0.1):\n",
    "            y_pred = self.predict(X, thr=np.around(_i, 1))\n",
    "            _tpr, _fpr = self.metrics(y_pred, y, metric)\n",
    "            tpr_recall_list.append(_tpr)\n",
    "            fpr_precision_list.append(_fpr)\n",
    "        TPR_REC = np.array(tpr_recall_list)\n",
    "        FPR_PRC = np.array(fpr_precision_list)\n",
    "        AUC_ROC = np.sum((FPR_PRC[:-1] - FPR_PRC[1:]) * (TPR_REC[1:] + TPR_REC[:-1]) / 2)\n",
    "        return TPR_REC, FPR_PRC, AUC_ROC"
   ]
  },
  {
   "cell_type": "code",
   "execution_count": 3,
   "id": "certain-desperate",
   "metadata": {},
   "outputs": [
    {
     "data": {
      "image/png": "[encoded data removed]",
      "text/plain": [
       "<Figure size 432x288 with 1 Axes>"
      ]
     },
     "metadata": {
      "needs_background": "light"
     },
     "output_type": "display_data"
    }
   ],
   "source": [
    "X, y = datasets.make_classification(n_samples=100,\n",
    "                                    n_features=2,\n",
    "                                    n_informative=2,\n",
    "                                    n_redundant=0,\n",
    "                                    n_classes=2,\n",
    "                                    random_state=56)\n",
    "X_train, X_test, y_train, y_test = train_test_split(X, y,\n",
    "                                                    test_size=0.33,\n",
    "                                                    random_state=2,\n",
    "                                                    shuffle=True)\n",
    "log_reg_model = LogisticRegression()\n",
    "log_reg_model.fit(X_train, y_train)\n",
    "tpr, fpr, auc = log_reg_model.roc_auc(X_train, y_train)\n",
    "plt.title('ROC curve')\n",
    "plt.ylim(0, 1.05)\n",
    "plt.xlabel('FPR')\n",
    "plt.ylabel('TPR')\n",
    "plt.grid()\n",
    "plt.plot(fpr, tpr)\n",
    "plt.legend(' ', title=f'AUC-ROC={auc:.3f}', loc='lower right')\n",
    "plt.show()"
   ]
  },
  {
   "cell_type": "code",
   "execution_count": 4,
   "id": "subjective-jewelry",
   "metadata": {},
   "outputs": [
    {
     "data": {
      "image/png": "[encoded data removed]",
      "text/plain": [
       "<Figure size 432x288 with 1 Axes>"
      ]
     },
     "metadata": {
      "needs_background": "light"
     },
     "output_type": "display_data"
    }
   ],
   "source": [
    "tpr, fpr, auc = log_reg_model.roc_auc(X_train, y_train, metric='pr_rec')\n",
    "plt.title('PR curve')\n",
    "plt.ylim(0, 1.05)\n",
    "plt.xlabel('Precision')\n",
    "plt.ylabel('Recall')\n",
    "plt.grid()\n",
    "plt.plot(fpr, tpr)\n",
    "plt.legend(' ', title=f'AUC-PR={auc:.3f}', loc='lower right')\n",
    "plt.show()"
   ]
  },
  {
   "cell_type": "code",
   "execution_count": 5,
   "id": "smart-mortgage",
   "metadata": {},
   "outputs": [
    {
     "data": {
      "text/plain": [
       "0.8823529411764706"
      ]
     },
     "execution_count": 5,
     "metadata": {},
     "output_type": "execute_result"
    }
   ],
   "source": [
    "log_reg_model.metrics(log_reg_model.predict(X_test), y_test, 'f1')"
   ]
  }
 ],
 "metadata": {
  "kernelspec": {
   "display_name": "Python 3",
   "language": "python",
   "name": "python3"
  },
  "language_info": {
   "codemirror_mode": {
    "name": "ipython",
    "version": 3
   },
   "file_extension": ".py",
   "mimetype": "text/x-python",
   "name": "python",
   "nbconvert_exporter": "python",
   "pygments_lexer": "ipython3",
   "version": "3.8.8"
  },
  "varInspector": {
   "cols": {
    "lenName": 16,
    "lenType": 16,
    "lenVar": 40
   },
   "kernels_config": {
    "python": {
     "delete_cmd_postfix": "",
     "delete_cmd_prefix": "del ",
     "library": "var_list.py",
     "varRefreshCmd": "print(var_dic_list())"
    },
    "r": {
     "delete_cmd_postfix": ") ",
     "delete_cmd_prefix": "rm(",
     "library": "var_list.r",
     "varRefreshCmd": "cat(var_dic_list()) "
    }
   },
   "types_to_exclude": [
    "module",
    "function",
    "builtin_function_or_method",
    "instance",
    "_Feature"
   ],
   "window_display": false
  }
 },
 "nbformat": 4,
 "nbformat_minor": 5
}
