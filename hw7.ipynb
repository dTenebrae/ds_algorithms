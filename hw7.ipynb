{
 "cells": [
  {
   "cell_type": "code",
   "execution_count": 1,
   "id": "macro-killing",
   "metadata": {},
   "outputs": [],
   "source": [
    "import numpy as np\n",
    "\n",
    "from sklearn.datasets import load_iris\n",
    "from sklearn.datasets import make_blobs\n",
    "from sklearn import model_selection\n",
    "\n",
    "from scipy.cluster import hierarchy\n",
    "\n",
    "import matplotlib.pyplot as plt\n",
    "%matplotlib inline"
   ]
  },
  {
   "cell_type": "markdown",
   "id": "occupied-assistant",
   "metadata": {},
   "source": [
    "1. Модифицировать реализацию KNN из методички так, чтобы больший вес получали наиболее близко расположенные объекты"
   ]
  },
  {
   "cell_type": "code",
   "execution_count": 2,
   "id": "spoken-prairie",
   "metadata": {},
   "outputs": [],
   "source": [
    "def e_metrics(x1, x2):\n",
    "    return np.sqrt(np.sum((x2 - x1) ** 2))"
   ]
  },
  {
   "cell_type": "code",
   "execution_count": 3,
   "id": "anticipated-administration",
   "metadata": {},
   "outputs": [],
   "source": [
    "def accuracy(pred, y):\n",
    "    return sum(pred == y) / len(y)"
   ]
  },
  {
   "cell_type": "code",
   "execution_count": 4,
   "id": "important-seller",
   "metadata": {},
   "outputs": [],
   "source": [
    "# q - переменная для вычисления весов соседей(w(d) = q ** d)\n",
    "def knn(x_train, y_train, x_test, k, q=0.5):\n",
    "    answers = []\n",
    "    for x in x_test:\n",
    "        test_distances = []\n",
    "\n",
    "        for i in range(len(x_train)):\n",
    "            # расчет расстояния от классифицируемого объекта до\n",
    "            # объекта обучающей выборки\n",
    "            distance = e_metrics(x, x_train[i])\n",
    "\n",
    "            # Записываем в список значение расстояния и ответа на объекте обучающей выборки\n",
    "            test_distances.append((distance, y_train[i]))\n",
    "\n",
    "        # создаем словарь со всеми возможными классами, счетчиками и весами для них\n",
    "        classes = {class_item: [0, 0] for class_item in set(y_train)}\n",
    "\n",
    "        # Берем k ближайших соседей, считаем их и для каждого аккумулируем расстояния\n",
    "        for d in sorted(test_distances)[0: k]:\n",
    "            classes[d[1]][0] += 1\n",
    "            # вес считаем по формуле w = q ^ d (q в пределах (0, 1), поэтому, чем больше \n",
    "            # расстояние, тем меньше итоговый вес)\n",
    "            classes[d[1]][1] += q ** d[0]\n",
    "\n",
    "        # Записываем в список ответов класс с наибольшим весом\n",
    "        answers.append(max(classes.items(), key=lambda n: n[1][1])[0])\n",
    "    return answers"
   ]
  },
  {
   "cell_type": "code",
   "execution_count": 5,
   "id": "gothic-automation",
   "metadata": {},
   "outputs": [
    {
     "name": "stdout",
     "output_type": "stream",
     "text": [
      "Точность алгоритма при k = 5: 0.867\n"
     ]
    }
   ],
   "source": [
    "X, y = load_iris(return_X_y=True)\n",
    "\n",
    "X = X[:, :2]\n",
    "X_train, X_test, y_train, y_test = model_selection.train_test_split(X, y, test_size=0.2,\n",
    "                                                                    random_state=1)\n",
    "\n",
    "k = 5\n",
    "y_pred = knn(X_train, y_train, X_test, k)\n",
    "print(f'Точность алгоритма при k = {k}: {accuracy(y_pred, y_test):.3f}')"
   ]
  },
  {
   "cell_type": "markdown",
   "id": "cloudy-disco",
   "metadata": {},
   "source": [
    "2. Реализовать иерархическую кластеризацию с любой из межкластерных метрик, кроме рассмотренной на вебинаре(Average Linkage Distance). Межкластерные метрики(Intercuster Distance) находятся здесь: https://www.geeksforgeeks.org/ml-intercluster-and-intracluster-distance/"
   ]
  },
  {
   "cell_type": "code",
   "execution_count": 6,
   "id": "beautiful-tissue",
   "metadata": {},
   "outputs": [],
   "source": [
    "X, y = make_blobs(n_samples=100, random_state=42)"
   ]
  },
  {
   "cell_type": "code",
   "execution_count": 7,
   "id": "generous-badge",
   "metadata": {},
   "outputs": [
    {
     "data": {
      "image/png": "[encoded data removed]",
      "text/plain": [
       "<Figure size 504x504 with 1 Axes>"
      ]
     },
     "metadata": {
      "needs_background": "light"
     },
     "output_type": "display_data"
    }
   ],
   "source": [
    "plt.figure(figsize=(7,7))\n",
    "plt.scatter(X[:, 0], X[:, 1]);"
   ]
  },
  {
   "cell_type": "code",
   "execution_count": 8,
   "id": "electoral-launch",
   "metadata": {},
   "outputs": [],
   "source": [
    "def visualize(centroids, classes):\n",
    "    colors = ['r', 'g', 'b', 'm']\n",
    "    \n",
    "    plt.figure(figsize=(7,7))\n",
    "    \n",
    "    # нанесем на график центроиды\n",
    "    for centroid in centroids:\n",
    "        plt.scatter(centroid[0], centroid[1], marker='x', s=130, c='black')\n",
    "        \n",
    "    # нанесем объекты раскрашенные по классам\n",
    "    for class_item in classes:\n",
    "        for x in classes[class_item]:\n",
    "            plt.scatter(x[0], x[1], color=colors[class_item])\n",
    "            \n",
    "    plt.show()"
   ]
  },
  {
   "cell_type": "code",
   "execution_count": 9,
   "id": "characteristic-qualification",
   "metadata": {},
   "outputs": [],
   "source": [
    "def kmeans(data, k, max_iterations, min_distance):\n",
    "    # Создадим словарь для классификации\n",
    "    classes = {i: [] for i in range(k)}\n",
    "    \n",
    "    # инициализируем центроиды как первые k элементов датасета\n",
    "    centroids = [data[i] for i in range(k)]\n",
    "    \n",
    "    for _ in range(max_iterations):\n",
    "        # классифицируем объекты по центроидам\n",
    "        for x in data:\n",
    "            # определим расстояния от объекта до каждого центроида\n",
    "            distances = [e_metrics(x, centroid) for centroid in centroids]\n",
    "            # отнесем объект к кластеру, до центроида которого наименьшее расстояние\n",
    "            classification = distances.index(min(distances))\n",
    "            classes[classification].append(x)\n",
    "        \n",
    "        # сохраним предыдущие центроиды в отдельный список для последующего сравнения сновыми\n",
    "        old_centroids = centroids.copy()\n",
    "        \n",
    "        # пересчитаем центроиды как среднее по кластерам\n",
    "        for classification in classes:\n",
    "            centroids[classification] = np.average(classes[classification], axis=0)\n",
    "            \n",
    "        # сравним величину смещения центроидов с минимальной\n",
    "        optimal = True\n",
    "        for centroid in range(len(centroids)):\n",
    "            if np.sum(abs((centroids[centroid] - old_centroids[centroid]) / old_centroids * 100)) > min_distance:\n",
    "                optimal = False\n",
    "                \n",
    "        # если все смещения меньше минимального, останавливаем алгоритм  \n",
    "        if optimal:\n",
    "            break\n",
    "    \n",
    "    return old_centroids, classes"
   ]
  },
  {
   "cell_type": "code",
   "execution_count": 10,
   "id": "cordless-innocent",
   "metadata": {},
   "outputs": [],
   "source": [
    "max_iterations = 10\n",
    "min_distance = 1e-4\n",
    "k = 4"
   ]
  },
  {
   "cell_type": "code",
   "execution_count": 11,
   "id": "committed-interstate",
   "metadata": {},
   "outputs": [
    {
     "data": {
      "image/png": "[encoded data removed]",
      "text/plain": [
       "<Figure size 504x504 with 1 Axes>"
      ]
     },
     "metadata": {
      "needs_background": "light"
     },
     "output_type": "display_data"
    }
   ],
   "source": [
    "centroids, clusters = kmeans(X, k, max_iterations, min_distance)\n",
    "visualize(centroids, clusters)"
   ]
  },
  {
   "cell_type": "markdown",
   "id": "voluntary-converter",
   "metadata": {},
   "source": [
    "___"
   ]
  },
  {
   "cell_type": "markdown",
   "id": "north-latex",
   "metadata": {},
   "source": [
    "<b>Single Linkage Distance:</b> наименьшее расстояние между двумя объектами, принадлежащими двум кластерам  \n",
    "\n",
    "$$ \\delta_1(S, T) = \\min \\bigg\\{d(x, y) _{ x \\in S, y \\in T} \\bigg\\} $$"
   ]
  },
  {
   "cell_type": "code",
   "execution_count": 12,
   "id": "thrown-battery",
   "metadata": {},
   "outputs": [],
   "source": [
    "def single_dist(u_clast, v_clast):\n",
    "  return min(e_metrics(x, y) for x in u_clast for y in v_clast)"
   ]
  },
  {
   "cell_type": "markdown",
   "id": "portuguese-trash",
   "metadata": {},
   "source": [
    "<b>Complete Linkage Distance:</b> расстояние между наиболее удаленными объектами, принадлежащими двум разным кластерам    \n",
    "\n",
    "$$ \\delta_2(S, T) = \\max \\bigg\\{d(x, y) _{ x \\in S, y \\in T} \\bigg\\} $$"
   ]
  },
  {
   "cell_type": "code",
   "execution_count": 13,
   "id": "gentle-husband",
   "metadata": {},
   "outputs": [],
   "source": [
    "def complete_dist(u_clast, v_clast):\n",
    "  return max(e_metrics(x, y) for x in u_clast for y in v_clast)"
   ]
  },
  {
   "cell_type": "markdown",
   "id": "polished-madness",
   "metadata": {},
   "source": [
    "<b>Average Linkage Distance:</b> среднее расстояние между всеми объектами, принадлежащими двум кластерам\n",
    "\n",
    "$$ \\delta_3(S, T) = \\frac{1}{|S||T|}\\sum_{x \\in S \\\\ y \\in T}d(x, y) $$"
   ]
  },
  {
   "cell_type": "code",
   "execution_count": 14,
   "id": "numerous-indicator",
   "metadata": {},
   "outputs": [],
   "source": [
    "def mean_dist(u_clast, v_clast):\n",
    "  return sum((e_metrics(x, y) for x in u_clast for y in v_clast))/(len(u_clast)*len(v_clast))"
   ]
  },
  {
   "cell_type": "markdown",
   "id": "therapeutic-badge",
   "metadata": {},
   "source": [
    "<b>Centroid Linkage Distance:</b> расстояние между центрами $v_s$ и $v_t$ двух кластеров S и T соответственно\n",
    "\n",
    "$$ \\delta_4(S, T) = d(v_s, v_t) $$\n",
    "\n",
    "где,\n",
    "\n",
    "$$ v_s = \\frac{1}{|S|}\\sum_{x \\in S}x $$\n",
    "$$ v_t = \\frac{1}{|T|}\\sum_{y \\in T}y $$"
   ]
  },
  {
   "cell_type": "code",
   "execution_count": 15,
   "id": "innovative-tunisia",
   "metadata": {},
   "outputs": [],
   "source": [
    "def centroid_dist(u_clast, v_clast):\n",
    "  return e_metrics(np.average(u_clast, axis=0), np.average(v_clast, axis=0))"
   ]
  },
  {
   "cell_type": "markdown",
   "id": "preliminary-makeup",
   "metadata": {},
   "source": [
    "<b>Average Centroid Linkage Distance:</b> среднее расстояние между центром кластера и всеми объектами, принадлежащими другому кластеру\n",
    "\n",
    "$$ \\delta_5(S, T) = \\frac{1}{|S|+|T|}\\bigg\\{\\sum_{x \\in S}d(x, vt)+\\sum_{y \\in T}d(y, vs)\\bigg\\} $$"
   ]
  },
  {
   "cell_type": "code",
   "execution_count": 16,
   "id": "seven-vitamin",
   "metadata": {},
   "outputs": [],
   "source": [
    "def mean_centroid_dist(u_clast, v_clast):\n",
    "    v1, v2 = np.average(u_clast, axis=0), np.average(v_clast, axis=0)\n",
    "    sum_1 = sum(e_metrics(x, v2) for x in u_clast)\n",
    "    sum_2 = sum(e_metrics(y, v1) for y in v_clast)\n",
    "    return (sum_1 + sum_2) / (len(u_clast) + len(v_clast))"
   ]
  },
  {
   "cell_type": "markdown",
   "id": "brief-theme",
   "metadata": {},
   "source": [
    "___"
   ]
  },
  {
   "cell_type": "markdown",
   "id": "posted-olive",
   "metadata": {},
   "source": [
    "Иерархическая кластеризация с применением Average centroid linkage distance"
   ]
  },
  {
   "cell_type": "code",
   "execution_count": 17,
   "id": "constitutional-disability",
   "metadata": {},
   "outputs": [],
   "source": [
    "def dist_matrix(clusters):\n",
    "  matrix=np.zeros((len(clusters), len(clusters)))\n",
    "  for i, u in enumerate(clusters):\n",
    "    for j, v in enumerate(clusters[i+1:], start=i+1):\n",
    "      matrix[[i, j], [j, i]]=mean_centroid_dist(u, v)\n",
    "  return matrix"
   ]
  },
  {
   "cell_type": "code",
   "execution_count": 18,
   "id": "conventional-evidence",
   "metadata": {},
   "outputs": [],
   "source": [
    "def indexes_to_combine(dist_matrix):\n",
    "  min_el=dist_matrix[np.triu_indices(dist_matrix.shape[0], 1)].min()\n",
    "  return np.argwhere(dist_matrix==min_el)[0], min_el"
   ]
  },
  {
   "cell_type": "code",
   "execution_count": 19,
   "id": "static-concord",
   "metadata": {},
   "outputs": [],
   "source": [
    "def exclude_clusters(i, j, dist_matrix):\n",
    "  mask=np.ones(dist_matrix.shape[0], dtype=bool)\n",
    "  mask[i]=False\n",
    "  mask[j]=False\n",
    "  return dist_matrix[mask, :][:, mask]\n",
    "\n",
    "def merge_clusters(i, j, clusters):\n",
    "  new_cluster=clusters[i]+clusters[j]\n",
    "  return new_cluster, [c for k, c in enumerate(clusters) if not k in [i, j]]\n",
    "\n",
    "def include_cluster(dist_mat, old_clusters, new_cluster):\n",
    "  new_col=np.array([mean_centroid_dist(c, new_cluster) for c in old_clusters])[:, np.newaxis]\n",
    "  dist_mat=np.concatenate([dist_mat, new_col], axis=1)\n",
    "  new_row=np.concatenate([new_col.flatten(), [0]])[np.newaxis, :]\n",
    "  dist_mat=np.concatenate([dist_mat, new_row], axis=0)\n",
    "  return dist_mat"
   ]
  },
  {
   "cell_type": "code",
   "execution_count": 20,
   "id": "expanded-rainbow",
   "metadata": {},
   "outputs": [],
   "source": [
    "def hierarchy_clustering(cluster_list):\n",
    "  cluster_list=cluster_list[:]\n",
    "  dist_mat=dist_matrix(cluster_list)\n",
    "  cluster_numbers=list(range(len(cluster_list)))\n",
    "  z=[]\n",
    "  new_num=len(cluster_list)\n",
    "  while len(cluster_list)>1:\n",
    "    [i, j], min_val=indexes_to_combine(dist_mat)\n",
    "    dist_mat=exclude_clusters(i, j, dist_mat)\n",
    "    new_cluster, old_clusters=merge_clusters(i, j, cluster_list)\n",
    "    dist_mat=include_cluster(dist_mat, old_clusters, new_cluster)\n",
    "    z.append([cluster_numbers[i], cluster_numbers[j], min_val, len(new_cluster)])\n",
    "    print([cluster_numbers[i], cluster_numbers[j], min_val, len(new_cluster)])\n",
    "    cluster_list=old_clusters+[new_cluster]\n",
    "    cluster_numbers=[n for k, n in enumerate(cluster_numbers) if not k in [i, j]]+[new_num]\n",
    "    new_num+=1\n",
    "  return z"
   ]
  },
  {
   "cell_type": "code",
   "execution_count": 21,
   "id": "concrete-reaction",
   "metadata": {},
   "outputs": [],
   "source": [
    "cluster_keys=list(clusters.keys())\n",
    "cluster_data=[clusters[k] for k in cluster_keys]"
   ]
  },
  {
   "cell_type": "code",
   "execution_count": 22,
   "id": "plastic-farmer",
   "metadata": {},
   "outputs": [
    {
     "data": {
      "text/plain": [
       "array([[ 0.        , 14.17559711, 16.20814503, 14.98091632],\n",
       "       [14.17559711,  0.        ,  9.67177395,  1.94567053],\n",
       "       [16.20814503,  9.67177395,  0.        , 11.30709684],\n",
       "       [14.98091632,  1.94567053, 11.30709684,  0.        ]])"
      ]
     },
     "execution_count": 22,
     "metadata": {},
     "output_type": "execute_result"
    }
   ],
   "source": [
    "dist_matrix(cluster_data)"
   ]
  },
  {
   "cell_type": "code",
   "execution_count": 23,
   "id": "corporate-stroke",
   "metadata": {},
   "outputs": [
    {
     "name": "stdout",
     "output_type": "stream",
     "text": [
      "[1, 3, 1.945670532154877, 330]\n",
      "[2, 4, 10.061249783433611, 670]\n",
      "[0, 5, 15.030242745589982, 1000]\n"
     ]
    }
   ],
   "source": [
    "Z=hierarchy_clustering(cluster_data)"
   ]
  },
  {
   "cell_type": "code",
   "execution_count": 24,
   "id": "constitutional-blank",
   "metadata": {},
   "outputs": [
    {
     "data": {
      "image/png": "[encoded data removed]",
      "text/plain": [
       "<Figure size 432x288 with 1 Axes>"
      ]
     },
     "metadata": {
      "needs_background": "light"
     },
     "output_type": "display_data"
    }
   ],
   "source": [
    "hierarchy.dendrogram(Z, labels= ['r', 'g', 'b', 'm']);"
   ]
  }
 ],
 "metadata": {
  "kernelspec": {
   "display_name": "Python 3",
   "language": "python",
   "name": "python3"
  },
  "language_info": {
   "codemirror_mode": {
    "name": "ipython",
    "version": 3
   },
   "file_extension": ".py",
   "mimetype": "text/x-python",
   "name": "python",
   "nbconvert_exporter": "python",
   "pygments_lexer": "ipython3",
   "version": "3.8.8"
  },
  "varInspector": {
   "cols": {
    "lenName": 16,
    "lenType": 16,
    "lenVar": 40
   },
   "kernels_config": {
    "python": {
     "delete_cmd_postfix": "",
     "delete_cmd_prefix": "del ",
     "library": "var_list.py",
     "varRefreshCmd": "print(var_dic_list())"
    },
    "r": {
     "delete_cmd_postfix": ") ",
     "delete_cmd_prefix": "rm(",
     "library": "var_list.r",
     "varRefreshCmd": "cat(var_dic_list()) "
    }
   },
   "types_to_exclude": [
    "module",
    "function",
    "builtin_function_or_method",
    "instance",
    "_Feature"
   ],
   "window_display": false
  }
 },
 "nbformat": 4,
 "nbformat_minor": 5
}
